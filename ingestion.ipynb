{
 "cells": [
  {
   "cell_type": "code",
   "execution_count": 1,
   "metadata": {},
   "outputs": [],
   "source": [
    "# Import necessary libraries for error handling and logging\n",
    "import logging\n",
    "\n",
    "# Step 1: Set up PySpark environment\n",
    "from pyspark.sql import SparkSession\n",
    "from pyspark.sql.functions import *"
   ]
  },
  {
   "cell_type": "code",
   "execution_count": 2,
   "metadata": {},
   "outputs": [],
   "source": [
    "spark = SparkSession.builder \\\n",
    "    .appName(\"YourApp\") \\\n",
    "    .config(\"spark.driver.extraClassPath\", \"mysql-connector-j-8.3.0\\mysql-connector-j-8.3.0.jar\") \\\n",
    "    .config(\"spark.executor.extraClassPath\", \"mysql-connector-j-8.3.0\\mysql-connector-j-8.3.0.jar\") \\\n",
    "    .getOrCreate()"
   ]
  },
  {
   "cell_type": "code",
   "execution_count": 3,
   "metadata": {},
   "outputs": [],
   "source": [
    "market1_cus1 = spark.read.csv(r\"C:\\Users\\USER\\assignment5_data_pipline_ind-1\\up_mk1_cus.csv\", header=True, inferSchema=True)\n",
    "market1_del1 = spark.read.csv(\n",
    "        r\"C:\\Users\\USER\\assignment5_data_pipline_ind-1\\update_mk1_del.csv\", header=True, inferSchema=True)\n",
    "market1_order1 = spark.read.csv(\n",
    "        r\"C:\\Users\\USER\\assignment5_data_pipline_ind-1\\update_mk1_orders.csv\", header=True, inferSchema=True)\n",
    "\n",
    "market2_cus2 = spark.read.csv(\n",
    "        r\"C:\\Users\\USER\\assignment5_data_pipline_ind-1\\up_mk2_cus.csv\", header=True, inferSchema=True)\n",
    "market2_del2 = spark.read.csv(\n",
    "        r\"C:\\Users\\USER\\assignment5_data_pipline_ind-1\\update_mk2_del.csv\", header=True, inferSchema=True)\n",
    "market2_order2 = spark.read.csv(\n",
    "        r\"C:\\Users\\USER\\assignment5_data_pipline_ind-1\\update_mk2_orders.csv\", header=True, inferSchema=True)\n"
   ]
  },
  {
   "cell_type": "code",
   "execution_count": 4,
   "metadata": {},
   "outputs": [],
   "source": [
    "# MySQL connection details\n",
    "\n",
    "mysql_host = \"localhost\"\n",
    "mysql_port = \"3306\"\n",
    "mysql_db = \"marketone_two\"\n",
    "mysql_user = \"root\"\n",
    "mysql_password = \"Sika@1234\"\n",
    "\n",
    "# URL to connect to MySQL\n",
    "mysql_url = f\"jdbc:mysql://{mysql_host}:{mysql_port}/{mysql_db}\"\n",
    "\n",
    "# Properties for JDBC connection\n",
    "mysql_properties = {\n",
    "\n",
    "    \"user\": mysql_user,\n",
    "    \"password\": mysql_password,\n",
    "    \"driver\": \"com.mysql.cj.jdbc.Driver\"\n",
    "}"
   ]
  },
  {
   "cell_type": "code",
   "execution_count": 5,
   "metadata": {},
   "outputs": [],
   "source": [
    "# Step 4: Write DataFrames from each market to separate tables in MySQL database\n",
    "market1_cus1.write.jdbc(url=mysql_url, table=\"customer1_data\",\n",
    "                            mode=\"overwrite\", properties=mysql_properties)\n",
    "market1_del1.write.jdbc(url=mysql_url, table=\"deliveries1_data\",\n",
    "                            mode=\"overwrite\", properties=mysql_properties)\n",
    "market1_order1.write.jdbc(\n",
    "        url=mysql_url, table=\"orders1_data\", mode=\"overwrite\", properties=mysql_properties)\n",
    "\n",
    "market2_cus2.write.jdbc(url=mysql_url, table=\"customer2_data\",\n",
    "                            mode=\"overwrite\", properties=mysql_properties)\n",
    "market2_del2.write.jdbc(url=mysql_url, table=\"deliveries2_data\",\n",
    "                            mode=\"overwrite\", properties=mysql_properties)\n",
    "market2_order2.write.jdbc(\n",
    "        url=mysql_url, table=\"orders2_data\", mode=\"overwrite\", properties=mysql_properties)\n",
    "# Stop Spark session\n",
    "spark.stop()"
   ]
  }
 ],
 "metadata": {
  "kernelspec": {
   "display_name": "Python 3",
   "language": "python",
   "name": "python3"
  },
  "language_info": {
   "codemirror_mode": {
    "name": "ipython",
    "version": 3
   },
   "file_extension": ".py",
   "mimetype": "text/x-python",
   "name": "python",
   "nbconvert_exporter": "python",
   "pygments_lexer": "ipython3",
   "version": "3.10.9"
  }
 },
 "nbformat": 4,
 "nbformat_minor": 2
}
