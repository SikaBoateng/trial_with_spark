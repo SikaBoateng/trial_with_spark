{
 "cells": [
  {
   "cell_type": "code",
   "execution_count": 1,
   "metadata": {},
   "outputs": [],
   "source": [
    "import pandas as pd"
   ]
  },
  {
   "cell_type": "code",
   "execution_count": 2,
   "metadata": {},
   "outputs": [],
   "source": [
    "mk1_customer = pd.read_json(r\"C:\\Users\\USER\\Data-pipeline-Individual\\Market 1 Customers.json\")"
   ]
  },
  {
   "cell_type": "code",
   "execution_count": 3,
   "metadata": {},
   "outputs": [
    {
     "name": "stdout",
     "output_type": "stream",
     "text": [
      "<class 'pandas.core.frame.DataFrame'>\n",
      "RangeIndex: 4177 entries, 0 to 4176\n",
      "Data columns (total 8 columns):\n",
      " #   Column               Non-Null Count  Dtype  \n",
      "---  ------               --------------  -----  \n",
      " 0   Customer ID          4177 non-null   int64  \n",
      " 1   Last Used Platform   4177 non-null   object \n",
      " 2   Is Blocked           4177 non-null   int64  \n",
      " 3   Created At           4177 non-null   object \n",
      " 4   Language             4177 non-null   object \n",
      " 5   Outstanding Amount   4177 non-null   int64  \n",
      " 6   Loyalty Points       4177 non-null   int64  \n",
      " 7   Number of employees  3139 non-null   float64\n",
      "dtypes: float64(1), int64(4), object(3)\n",
      "memory usage: 261.2+ KB\n"
     ]
    }
   ],
   "source": [
    "mk1_customer.info()"
   ]
  },
  {
   "cell_type": "code",
   "execution_count": 4,
   "metadata": {},
   "outputs": [
    {
     "data": {
      "text/html": [
       "<div>\n",
       "<style scoped>\n",
       "    .dataframe tbody tr th:only-of-type {\n",
       "        vertical-align: middle;\n",
       "    }\n",
       "\n",
       "    .dataframe tbody tr th {\n",
       "        vertical-align: top;\n",
       "    }\n",
       "\n",
       "    .dataframe thead th {\n",
       "        text-align: right;\n",
       "    }\n",
       "</style>\n",
       "<table border=\"1\" class=\"dataframe\">\n",
       "  <thead>\n",
       "    <tr style=\"text-align: right;\">\n",
       "      <th></th>\n",
       "    </tr>\n",
       "  </thead>\n",
       "  <tbody>\n",
       "    <tr>\n",
       "      <th>0</th>\n",
       "    </tr>\n",
       "    <tr>\n",
       "      <th>1</th>\n",
       "    </tr>\n",
       "    <tr>\n",
       "      <th>2</th>\n",
       "    </tr>\n",
       "    <tr>\n",
       "      <th>3</th>\n",
       "    </tr>\n",
       "    <tr>\n",
       "      <th>4</th>\n",
       "    </tr>\n",
       "    <tr>\n",
       "      <th>...</th>\n",
       "    </tr>\n",
       "    <tr>\n",
       "      <th>4172</th>\n",
       "    </tr>\n",
       "    <tr>\n",
       "      <th>4173</th>\n",
       "    </tr>\n",
       "    <tr>\n",
       "      <th>4174</th>\n",
       "    </tr>\n",
       "    <tr>\n",
       "      <th>4175</th>\n",
       "    </tr>\n",
       "    <tr>\n",
       "      <th>4176</th>\n",
       "    </tr>\n",
       "  </tbody>\n",
       "</table>\n",
       "<p>4177 rows × 0 columns</p>\n",
       "</div>"
      ],
      "text/plain": [
       "Empty DataFrame\n",
       "Columns: []\n",
       "Index: [0, 1, 2, 3, 4, 5, 6, 7, 8, 9, 10, 11, 12, 13, 14, 15, 16, 17, 18, 19, 20, 21, 22, 23, 24, 25, 26, 27, 28, 29, 30, 31, 32, 33, 34, 35, 36, 37, 38, 39, 40, 41, 42, 43, 44, 45, 46, 47, 48, 49, 50, 51, 52, 53, 54, 55, 56, 57, 58, 59, 60, 61, 62, 63, 64, 65, 66, 67, 68, 69, 70, 71, 72, 73, 74, 75, 76, 77, 78, 79, 80, 81, 82, 83, 84, 85, 86, 87, 88, 89, 90, 91, 92, 93, 94, 95, 96, 97, 98, 99, ...]\n",
       "\n",
       "[4177 rows x 0 columns]"
      ]
     },
     "execution_count": 4,
     "metadata": {},
     "output_type": "execute_result"
    }
   ],
   "source": [
    "pd.json_normalize(mk1_customer['Number of employees'])"
   ]
  },
  {
   "cell_type": "code",
   "execution_count": 5,
   "metadata": {},
   "outputs": [
    {
     "data": {
      "text/plain": [
       "Index(['Customer ID', 'Last Used Platform', 'Is Blocked', 'Created At',\n",
       "       'Language', 'Outstanding Amount', 'Loyalty Points',\n",
       "       'Number of employees'],\n",
       "      dtype='object')"
      ]
     },
     "execution_count": 5,
     "metadata": {},
     "output_type": "execute_result"
    }
   ],
   "source": [
    "mk1_customer.columns"
   ]
  },
  {
   "cell_type": "code",
   "execution_count": 6,
   "metadata": {},
   "outputs": [],
   "source": [
    "column_to_drop = ['Number of employees']"
   ]
  },
  {
   "cell_type": "code",
   "execution_count": 7,
   "metadata": {},
   "outputs": [],
   "source": [
    "mk1_cus = mk1_customer.drop(column_to_drop, axis =1)"
   ]
  },
  {
   "cell_type": "code",
   "execution_count": 8,
   "metadata": {},
   "outputs": [
    {
     "name": "stdout",
     "output_type": "stream",
     "text": [
      "<class 'pandas.core.frame.DataFrame'>\n",
      "RangeIndex: 4177 entries, 0 to 4176\n",
      "Data columns (total 7 columns):\n",
      " #   Column              Non-Null Count  Dtype \n",
      "---  ------              --------------  ----- \n",
      " 0   Customer ID         4177 non-null   int64 \n",
      " 1   Last Used Platform  4177 non-null   object\n",
      " 2   Is Blocked          4177 non-null   int64 \n",
      " 3   Created At          4177 non-null   object\n",
      " 4   Language            4177 non-null   object\n",
      " 5   Outstanding Amount  4177 non-null   int64 \n",
      " 6   Loyalty Points      4177 non-null   int64 \n",
      "dtypes: int64(4), object(3)\n",
      "memory usage: 228.6+ KB\n"
     ]
    }
   ],
   "source": [
    "mk1_cus.info()"
   ]
  },
  {
   "cell_type": "code",
   "execution_count": 9,
   "metadata": {},
   "outputs": [],
   "source": [
    "mk1_cus.to_csv('up_mk1_cus.csv', index = False)"
   ]
  },
  {
   "cell_type": "code",
   "execution_count": 10,
   "metadata": {},
   "outputs": [
    {
     "data": {
      "text/plain": [
       "Index(['Customer ID', 'Last Used Platform', 'Is Blocked', 'Created At',\n",
       "       'Language', 'Outstanding Amount', 'Loyalty Points'],\n",
       "      dtype='object')"
      ]
     },
     "execution_count": 10,
     "metadata": {},
     "output_type": "execute_result"
    }
   ],
   "source": [
    "mk1_cus.columns"
   ]
  },
  {
   "cell_type": "code",
   "execution_count": 11,
   "metadata": {},
   "outputs": [
    {
     "data": {
      "text/html": [
       "<div>\n",
       "<style scoped>\n",
       "    .dataframe tbody tr th:only-of-type {\n",
       "        vertical-align: middle;\n",
       "    }\n",
       "\n",
       "    .dataframe tbody tr th {\n",
       "        vertical-align: top;\n",
       "    }\n",
       "\n",
       "    .dataframe thead th {\n",
       "        text-align: right;\n",
       "    }\n",
       "</style>\n",
       "<table border=\"1\" class=\"dataframe\">\n",
       "  <thead>\n",
       "    <tr style=\"text-align: right;\">\n",
       "      <th></th>\n",
       "      <th>Customer ID</th>\n",
       "      <th>Last Used Platform</th>\n",
       "      <th>Is Blocked</th>\n",
       "      <th>Created At</th>\n",
       "      <th>Language</th>\n",
       "      <th>Outstanding Amount</th>\n",
       "      <th>Loyalty Points</th>\n",
       "    </tr>\n",
       "  </thead>\n",
       "  <tbody>\n",
       "    <tr>\n",
       "      <th>0</th>\n",
       "      <td>3144837</td>\n",
       "      <td>WEB</td>\n",
       "      <td>0</td>\n",
       "      <td>2021-03-15T17:13:19.000Z</td>\n",
       "      <td>en</td>\n",
       "      <td>0</td>\n",
       "      <td>0</td>\n",
       "    </tr>\n",
       "    <tr>\n",
       "      <th>1</th>\n",
       "      <td>3174590</td>\n",
       "      <td>WEB</td>\n",
       "      <td>0</td>\n",
       "      <td>2021-03-20T14:15:11.000Z</td>\n",
       "      <td>en</td>\n",
       "      <td>0</td>\n",
       "      <td>0</td>\n",
       "    </tr>\n",
       "    <tr>\n",
       "      <th>2</th>\n",
       "      <td>3181998</td>\n",
       "      <td>WEB</td>\n",
       "      <td>0</td>\n",
       "      <td>2021-03-21T15:36:51.000Z</td>\n",
       "      <td>en</td>\n",
       "      <td>0</td>\n",
       "      <td>0</td>\n",
       "    </tr>\n",
       "    <tr>\n",
       "      <th>3</th>\n",
       "      <td>3191244</td>\n",
       "      <td>WEB</td>\n",
       "      <td>0</td>\n",
       "      <td>2021-03-23T08:54:00.000Z</td>\n",
       "      <td>en</td>\n",
       "      <td>0</td>\n",
       "      <td>367</td>\n",
       "    </tr>\n",
       "    <tr>\n",
       "      <th>4</th>\n",
       "      <td>3274222</td>\n",
       "      <td>WEB</td>\n",
       "      <td>0</td>\n",
       "      <td>2021-04-06T13:52:39.000Z</td>\n",
       "      <td>en</td>\n",
       "      <td>0</td>\n",
       "      <td>0</td>\n",
       "    </tr>\n",
       "    <tr>\n",
       "      <th>...</th>\n",
       "      <td>...</td>\n",
       "      <td>...</td>\n",
       "      <td>...</td>\n",
       "      <td>...</td>\n",
       "      <td>...</td>\n",
       "      <td>...</td>\n",
       "      <td>...</td>\n",
       "    </tr>\n",
       "    <tr>\n",
       "      <th>4172</th>\n",
       "      <td>5188032</td>\n",
       "      <td>WEB</td>\n",
       "      <td>0</td>\n",
       "      <td>2022-02-17T09:03:10.000Z</td>\n",
       "      <td>en</td>\n",
       "      <td>0</td>\n",
       "      <td>0</td>\n",
       "    </tr>\n",
       "    <tr>\n",
       "      <th>4173</th>\n",
       "      <td>5188161</td>\n",
       "      <td>WEB</td>\n",
       "      <td>0</td>\n",
       "      <td>2022-02-17T09:31:49.000Z</td>\n",
       "      <td>en</td>\n",
       "      <td>0</td>\n",
       "      <td>0</td>\n",
       "    </tr>\n",
       "    <tr>\n",
       "      <th>4174</th>\n",
       "      <td>5188263</td>\n",
       "      <td>WEB</td>\n",
       "      <td>0</td>\n",
       "      <td>2022-02-17T09:51:36.000Z</td>\n",
       "      <td>en</td>\n",
       "      <td>0</td>\n",
       "      <td>0</td>\n",
       "    </tr>\n",
       "    <tr>\n",
       "      <th>4175</th>\n",
       "      <td>5188431</td>\n",
       "      <td>WEB</td>\n",
       "      <td>0</td>\n",
       "      <td>2022-02-17T10:34:19.000Z</td>\n",
       "      <td>en</td>\n",
       "      <td>0</td>\n",
       "      <td>0</td>\n",
       "    </tr>\n",
       "    <tr>\n",
       "      <th>4176</th>\n",
       "      <td>5189011</td>\n",
       "      <td>WEB</td>\n",
       "      <td>0</td>\n",
       "      <td>2022-02-17T13:07:11.000Z</td>\n",
       "      <td>en</td>\n",
       "      <td>0</td>\n",
       "      <td>0</td>\n",
       "    </tr>\n",
       "  </tbody>\n",
       "</table>\n",
       "<p>4177 rows × 7 columns</p>\n",
       "</div>"
      ],
      "text/plain": [
       "      Customer ID Last Used Platform  Is Blocked                Created At   \n",
       "0         3144837                WEB           0  2021-03-15T17:13:19.000Z  \\\n",
       "1         3174590                WEB           0  2021-03-20T14:15:11.000Z   \n",
       "2         3181998                WEB           0  2021-03-21T15:36:51.000Z   \n",
       "3         3191244                WEB           0  2021-03-23T08:54:00.000Z   \n",
       "4         3274222                WEB           0  2021-04-06T13:52:39.000Z   \n",
       "...           ...                ...         ...                       ...   \n",
       "4172      5188032                WEB           0  2022-02-17T09:03:10.000Z   \n",
       "4173      5188161                WEB           0  2022-02-17T09:31:49.000Z   \n",
       "4174      5188263                WEB           0  2022-02-17T09:51:36.000Z   \n",
       "4175      5188431                WEB           0  2022-02-17T10:34:19.000Z   \n",
       "4176      5189011                WEB           0  2022-02-17T13:07:11.000Z   \n",
       "\n",
       "     Language  Outstanding Amount  Loyalty Points  \n",
       "0          en                   0               0  \n",
       "1          en                   0               0  \n",
       "2          en                   0               0  \n",
       "3          en                   0             367  \n",
       "4          en                   0               0  \n",
       "...       ...                 ...             ...  \n",
       "4172       en                   0               0  \n",
       "4173       en                   0               0  \n",
       "4174       en                   0               0  \n",
       "4175       en                   0               0  \n",
       "4176       en                   0               0  \n",
       "\n",
       "[4177 rows x 7 columns]"
      ]
     },
     "execution_count": 11,
     "metadata": {},
     "output_type": "execute_result"
    }
   ],
   "source": [
    "mk1_cus"
   ]
  }
 ],
 "metadata": {
  "kernelspec": {
   "display_name": "Python 3",
   "language": "python",
   "name": "python3"
  },
  "language_info": {
   "codemirror_mode": {
    "name": "ipython",
    "version": 3
   },
   "file_extension": ".py",
   "mimetype": "text/x-python",
   "name": "python",
   "nbconvert_exporter": "python",
   "pygments_lexer": "ipython3",
   "version": "3.10.9"
  }
 },
 "nbformat": 4,
 "nbformat_minor": 2
}
